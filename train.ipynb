{
  "nbformat": 4,
  "nbformat_minor": 0,
  "metadata": {
    "colab": {
      "provenance": []
    },
    "kernelspec": {
      "name": "python3",
      "display_name": "Python 3"
    },
    "language_info": {
      "name": "python"
    },
    "accelerator": "GPU",
    "gpuClass": "standard"
  },
  "cells": [
    {
      "cell_type": "code",
      "source": [
        "!pip install tflite_model_maker"
      ],
      "metadata": {
        "colab": {
          "base_uri": "https://localhost:8080/"
        },
        "id": "-hwjIEqdd2kZ",
        "outputId": "ebc276a1-2fee-41a7-f7cd-80dbf2533c3d"
      },
      "execution_count": 21,
      "outputs": [
        {
          "output_type": "stream",
          "name": "stdout",
          "text": [
            "Looking in indexes: https://pypi.org/simple, https://us-python.pkg.dev/colab-wheels/public/simple/\n",
            "Requirement already satisfied: tflite_model_maker in /usr/local/lib/python3.8/dist-packages (0.4.2)\n",
            "Requirement already satisfied: Cython>=0.29.13 in /usr/local/lib/python3.8/dist-packages (from tflite_model_maker) (0.29.32)\n",
            "Requirement already satisfied: tensorflow>=2.6.0 in /usr/local/lib/python3.8/dist-packages (from tflite_model_maker) (2.8.4)\n",
            "Requirement already satisfied: absl-py>=0.10.0 in /usr/local/lib/python3.8/dist-packages (from tflite_model_maker) (1.3.0)\n",
            "Requirement already satisfied: tensorflow-model-optimization>=0.5 in /usr/local/lib/python3.8/dist-packages (from tflite_model_maker) (0.7.3)\n",
            "Requirement already satisfied: matplotlib<3.5.0,>=3.0.3 in /usr/local/lib/python3.8/dist-packages (from tflite_model_maker) (3.2.2)\n",
            "Requirement already satisfied: tensorflow-datasets>=2.1.0 in /usr/local/lib/python3.8/dist-packages (from tflite_model_maker) (4.6.0)\n",
            "Requirement already satisfied: tensorflow-addons>=0.11.2 in /usr/local/lib/python3.8/dist-packages (from tflite_model_maker) (0.19.0)\n",
            "Requirement already satisfied: six>=1.12.0 in /usr/local/lib/python3.8/dist-packages (from tflite_model_maker) (1.15.0)\n",
            "Requirement already satisfied: pillow>=7.0.0 in /usr/local/lib/python3.8/dist-packages (from tflite_model_maker) (7.1.2)\n",
            "Requirement already satisfied: fire>=0.3.1 in /usr/local/lib/python3.8/dist-packages (from tflite_model_maker) (0.5.0)\n",
            "Requirement already satisfied: tensorflow-hub<0.13,>=0.7.0 in /usr/local/lib/python3.8/dist-packages (from tflite_model_maker) (0.12.0)\n",
            "Requirement already satisfied: urllib3!=1.25.0,!=1.25.1,<1.26,>=1.21.1 in /usr/local/lib/python3.8/dist-packages (from tflite_model_maker) (1.24.3)\n",
            "Requirement already satisfied: librosa==0.8.1 in /usr/local/lib/python3.8/dist-packages (from tflite_model_maker) (0.8.1)\n",
            "Requirement already satisfied: flatbuffers>=2.0 in /usr/local/lib/python3.8/dist-packages (from tflite_model_maker) (22.12.6)\n",
            "Requirement already satisfied: PyYAML>=5.1 in /usr/local/lib/python3.8/dist-packages (from tflite_model_maker) (6.0)\n",
            "Requirement already satisfied: tflite-support>=0.4.2 in /usr/local/lib/python3.8/dist-packages (from tflite_model_maker) (0.4.3)\n",
            "Requirement already satisfied: tensorflowjs<3.19.0,>=2.4.0 in /usr/local/lib/python3.8/dist-packages (from tflite_model_maker) (3.18.0)\n",
            "Requirement already satisfied: tf-models-official==2.3.0 in /usr/local/lib/python3.8/dist-packages (from tflite_model_maker) (2.3.0)\n",
            "Requirement already satisfied: numba==0.53 in /usr/local/lib/python3.8/dist-packages (from tflite_model_maker) (0.53.0)\n",
            "Requirement already satisfied: lxml>=4.6.1 in /usr/local/lib/python3.8/dist-packages (from tflite_model_maker) (4.9.2)\n",
            "Requirement already satisfied: sentencepiece>=0.1.91 in /usr/local/lib/python3.8/dist-packages (from tflite_model_maker) (0.1.97)\n",
            "Requirement already satisfied: scann==1.2.6 in /usr/local/lib/python3.8/dist-packages (from tflite_model_maker) (1.2.6)\n",
            "Requirement already satisfied: numpy>=1.17.3 in /usr/local/lib/python3.8/dist-packages (from tflite_model_maker) (1.21.6)\n",
            "Requirement already satisfied: neural-structured-learning>=1.3.1 in /usr/local/lib/python3.8/dist-packages (from tflite_model_maker) (1.4.0)\n",
            "Requirement already satisfied: audioread>=2.0.0 in /usr/local/lib/python3.8/dist-packages (from librosa==0.8.1->tflite_model_maker) (3.0.0)\n",
            "Requirement already satisfied: decorator>=3.0.0 in /usr/local/lib/python3.8/dist-packages (from librosa==0.8.1->tflite_model_maker) (4.4.2)\n",
            "Requirement already satisfied: joblib>=0.14 in /usr/local/lib/python3.8/dist-packages (from librosa==0.8.1->tflite_model_maker) (1.2.0)\n",
            "Requirement already satisfied: soundfile>=0.10.2 in /usr/local/lib/python3.8/dist-packages (from librosa==0.8.1->tflite_model_maker) (0.11.0)\n",
            "Requirement already satisfied: packaging>=20.0 in /usr/local/lib/python3.8/dist-packages (from librosa==0.8.1->tflite_model_maker) (20.9)\n",
            "Requirement already satisfied: scipy>=1.0.0 in /usr/local/lib/python3.8/dist-packages (from librosa==0.8.1->tflite_model_maker) (1.7.3)\n",
            "Requirement already satisfied: resampy>=0.2.2 in /usr/local/lib/python3.8/dist-packages (from librosa==0.8.1->tflite_model_maker) (0.4.2)\n",
            "Requirement already satisfied: pooch>=1.0 in /usr/local/lib/python3.8/dist-packages (from librosa==0.8.1->tflite_model_maker) (1.6.0)\n",
            "Requirement already satisfied: scikit-learn!=0.19.0,>=0.14.0 in /usr/local/lib/python3.8/dist-packages (from librosa==0.8.1->tflite_model_maker) (1.0.2)\n",
            "Requirement already satisfied: setuptools in /usr/local/lib/python3.8/dist-packages (from numba==0.53->tflite_model_maker) (57.4.0)\n",
            "Requirement already satisfied: llvmlite<0.37,>=0.36.0rc1 in /usr/local/lib/python3.8/dist-packages (from numba==0.53->tflite_model_maker) (0.36.0)\n",
            "Requirement already satisfied: kaggle>=1.3.9 in /usr/local/lib/python3.8/dist-packages (from tf-models-official==2.3.0->tflite_model_maker) (1.5.12)\n",
            "Requirement already satisfied: psutil>=5.4.3 in /usr/local/lib/python3.8/dist-packages (from tf-models-official==2.3.0->tflite_model_maker) (5.4.8)\n",
            "Requirement already satisfied: tf-slim>=1.1.0 in /usr/local/lib/python3.8/dist-packages (from tf-models-official==2.3.0->tflite_model_maker) (1.1.0)\n",
            "Requirement already satisfied: dataclasses in /usr/local/lib/python3.8/dist-packages (from tf-models-official==2.3.0->tflite_model_maker) (0.6)\n",
            "Requirement already satisfied: pandas>=0.22.0 in /usr/local/lib/python3.8/dist-packages (from tf-models-official==2.3.0->tflite_model_maker) (1.3.5)\n",
            "Requirement already satisfied: opencv-python-headless in /usr/local/lib/python3.8/dist-packages (from tf-models-official==2.3.0->tflite_model_maker) (4.6.0.66)\n",
            "Requirement already satisfied: google-cloud-bigquery>=0.31.0 in /usr/local/lib/python3.8/dist-packages (from tf-models-official==2.3.0->tflite_model_maker) (3.4.1)\n",
            "Requirement already satisfied: py-cpuinfo>=3.3.0 in /usr/local/lib/python3.8/dist-packages (from tf-models-official==2.3.0->tflite_model_maker) (9.0.0)\n",
            "Requirement already satisfied: google-api-python-client>=1.6.7 in /usr/local/lib/python3.8/dist-packages (from tf-models-official==2.3.0->tflite_model_maker) (2.70.0)\n",
            "Requirement already satisfied: gin-config in /usr/local/lib/python3.8/dist-packages (from tf-models-official==2.3.0->tflite_model_maker) (0.5.0)\n",
            "Requirement already satisfied: termcolor in /usr/local/lib/python3.8/dist-packages (from fire>=0.3.1->tflite_model_maker) (2.1.1)\n",
            "Requirement already satisfied: python-dateutil>=2.1 in /usr/local/lib/python3.8/dist-packages (from matplotlib<3.5.0,>=3.0.3->tflite_model_maker) (2.8.2)\n",
            "Requirement already satisfied: kiwisolver>=1.0.1 in /usr/local/lib/python3.8/dist-packages (from matplotlib<3.5.0,>=3.0.3->tflite_model_maker) (1.4.4)\n",
            "Requirement already satisfied: cycler>=0.10 in /usr/local/lib/python3.8/dist-packages (from matplotlib<3.5.0,>=3.0.3->tflite_model_maker) (0.11.0)\n",
            "Requirement already satisfied: pyparsing!=2.0.4,!=2.1.2,!=2.1.6,>=2.0.1 in /usr/local/lib/python3.8/dist-packages (from matplotlib<3.5.0,>=3.0.3->tflite_model_maker) (3.0.9)\n",
            "Requirement already satisfied: attrs in /usr/local/lib/python3.8/dist-packages (from neural-structured-learning>=1.3.1->tflite_model_maker) (22.2.0)\n",
            "Requirement already satisfied: keras<2.9,>=2.8.0rc0 in /usr/local/lib/python3.8/dist-packages (from tensorflow>=2.6.0->tflite_model_maker) (2.8.0)\n",
            "Requirement already satisfied: astunparse>=1.6.0 in /usr/local/lib/python3.8/dist-packages (from tensorflow>=2.6.0->tflite_model_maker) (1.6.3)\n",
            "Requirement already satisfied: opt-einsum>=2.3.2 in /usr/local/lib/python3.8/dist-packages (from tensorflow>=2.6.0->tflite_model_maker) (3.3.0)\n",
            "Requirement already satisfied: protobuf<3.20,>=3.9.2 in /usr/local/lib/python3.8/dist-packages (from tensorflow>=2.6.0->tflite_model_maker) (3.19.6)\n",
            "Requirement already satisfied: tensorflow-io-gcs-filesystem>=0.23.1 in /usr/local/lib/python3.8/dist-packages (from tensorflow>=2.6.0->tflite_model_maker) (0.29.0)\n",
            "Requirement already satisfied: google-pasta>=0.1.1 in /usr/local/lib/python3.8/dist-packages (from tensorflow>=2.6.0->tflite_model_maker) (0.2.0)\n",
            "Requirement already satisfied: grpcio<2.0,>=1.24.3 in /usr/local/lib/python3.8/dist-packages (from tensorflow>=2.6.0->tflite_model_maker) (1.51.1)\n",
            "Requirement already satisfied: gast>=0.2.1 in /usr/local/lib/python3.8/dist-packages (from tensorflow>=2.6.0->tflite_model_maker) (0.4.0)\n",
            "Requirement already satisfied: tensorboard<2.9,>=2.8 in /usr/local/lib/python3.8/dist-packages (from tensorflow>=2.6.0->tflite_model_maker) (2.8.0)\n",
            "Requirement already satisfied: wrapt>=1.11.0 in /usr/local/lib/python3.8/dist-packages (from tensorflow>=2.6.0->tflite_model_maker) (1.14.1)\n",
            "Requirement already satisfied: tensorflow-estimator<2.9,>=2.8 in /usr/local/lib/python3.8/dist-packages (from tensorflow>=2.6.0->tflite_model_maker) (2.8.0)\n",
            "Requirement already satisfied: typing-extensions>=3.6.6 in /usr/local/lib/python3.8/dist-packages (from tensorflow>=2.6.0->tflite_model_maker) (4.4.0)\n",
            "Requirement already satisfied: libclang>=9.0.1 in /usr/local/lib/python3.8/dist-packages (from tensorflow>=2.6.0->tflite_model_maker) (14.0.6)\n",
            "Requirement already satisfied: keras-preprocessing>=1.1.1 in /usr/local/lib/python3.8/dist-packages (from tensorflow>=2.6.0->tflite_model_maker) (1.1.2)\n",
            "Requirement already satisfied: h5py>=2.9.0 in /usr/local/lib/python3.8/dist-packages (from tensorflow>=2.6.0->tflite_model_maker) (3.1.0)\n",
            "Requirement already satisfied: typeguard>=2.7 in /usr/local/lib/python3.8/dist-packages (from tensorflow-addons>=0.11.2->tflite_model_maker) (2.7.1)\n",
            "Requirement already satisfied: tensorflow-metadata in /usr/local/lib/python3.8/dist-packages (from tensorflow-datasets>=2.1.0->tflite_model_maker) (1.12.0)\n",
            "Requirement already satisfied: tqdm in /usr/local/lib/python3.8/dist-packages (from tensorflow-datasets>=2.1.0->tflite_model_maker) (4.64.1)\n",
            "Requirement already satisfied: dill in /usr/local/lib/python3.8/dist-packages (from tensorflow-datasets>=2.1.0->tflite_model_maker) (0.3.6)\n",
            "Requirement already satisfied: toml in /usr/local/lib/python3.8/dist-packages (from tensorflow-datasets>=2.1.0->tflite_model_maker) (0.10.2)\n",
            "Requirement already satisfied: importlib-resources in /usr/local/lib/python3.8/dist-packages (from tensorflow-datasets>=2.1.0->tflite_model_maker) (5.10.1)\n",
            "Requirement already satisfied: requests>=2.19.0 in /usr/local/lib/python3.8/dist-packages (from tensorflow-datasets>=2.1.0->tflite_model_maker) (2.25.1)\n",
            "Requirement already satisfied: promise in /usr/local/lib/python3.8/dist-packages (from tensorflow-datasets>=2.1.0->tflite_model_maker) (2.3)\n",
            "Requirement already satisfied: etils[epath] in /usr/local/lib/python3.8/dist-packages (from tensorflow-datasets>=2.1.0->tflite_model_maker) (0.9.0)\n",
            "Requirement already satisfied: dm-tree~=0.1.1 in /usr/local/lib/python3.8/dist-packages (from tensorflow-model-optimization>=0.5->tflite_model_maker) (0.1.8)\n",
            "Requirement already satisfied: pybind11>=2.6.0 in /usr/local/lib/python3.8/dist-packages (from tflite-support>=0.4.2->tflite_model_maker) (2.10.3)\n",
            "Requirement already satisfied: sounddevice>=0.4.4 in /usr/local/lib/python3.8/dist-packages (from tflite-support>=0.4.2->tflite_model_maker) (0.4.5)\n",
            "Requirement already satisfied: wheel<1.0,>=0.23.0 in /usr/local/lib/python3.8/dist-packages (from astunparse>=1.6.0->tensorflow>=2.6.0->tflite_model_maker) (0.38.4)\n",
            "Requirement already satisfied: google-auth-httplib2>=0.1.0 in /usr/local/lib/python3.8/dist-packages (from google-api-python-client>=1.6.7->tf-models-official==2.3.0->tflite_model_maker) (0.1.0)\n",
            "Requirement already satisfied: uritemplate<5,>=3.0.1 in /usr/local/lib/python3.8/dist-packages (from google-api-python-client>=1.6.7->tf-models-official==2.3.0->tflite_model_maker) (4.1.1)\n",
            "Requirement already satisfied: google-auth<3.0.0dev,>=1.19.0 in /usr/local/lib/python3.8/dist-packages (from google-api-python-client>=1.6.7->tf-models-official==2.3.0->tflite_model_maker) (2.15.0)\n",
            "Requirement already satisfied: google-api-core!=2.0.*,!=2.1.*,!=2.2.*,!=2.3.0,<3.0.0dev,>=1.31.5 in /usr/local/lib/python3.8/dist-packages (from google-api-python-client>=1.6.7->tf-models-official==2.3.0->tflite_model_maker) (2.11.0)\n",
            "Requirement already satisfied: httplib2<1dev,>=0.15.0 in /usr/local/lib/python3.8/dist-packages (from google-api-python-client>=1.6.7->tf-models-official==2.3.0->tflite_model_maker) (0.17.4)\n",
            "Requirement already satisfied: google-cloud-core<3.0.0dev,>=1.4.1 in /usr/local/lib/python3.8/dist-packages (from google-cloud-bigquery>=0.31.0->tf-models-official==2.3.0->tflite_model_maker) (2.3.2)\n",
            "Requirement already satisfied: google-resumable-media<3.0dev,>=0.6.0 in /usr/local/lib/python3.8/dist-packages (from google-cloud-bigquery>=0.31.0->tf-models-official==2.3.0->tflite_model_maker) (2.4.0)\n",
            "Requirement already satisfied: proto-plus<2.0.0dev,>=1.15.0 in /usr/local/lib/python3.8/dist-packages (from google-cloud-bigquery>=0.31.0->tf-models-official==2.3.0->tflite_model_maker) (1.22.1)\n",
            "Requirement already satisfied: certifi in /usr/local/lib/python3.8/dist-packages (from kaggle>=1.3.9->tf-models-official==2.3.0->tflite_model_maker) (2022.12.7)\n",
            "Requirement already satisfied: python-slugify in /usr/local/lib/python3.8/dist-packages (from kaggle>=1.3.9->tf-models-official==2.3.0->tflite_model_maker) (7.0.0)\n",
            "Requirement already satisfied: pytz>=2017.3 in /usr/local/lib/python3.8/dist-packages (from pandas>=0.22.0->tf-models-official==2.3.0->tflite_model_maker) (2022.7)\n",
            "Requirement already satisfied: appdirs>=1.3.0 in /usr/local/lib/python3.8/dist-packages (from pooch>=1.0->librosa==0.8.1->tflite_model_maker) (1.4.4)\n",
            "Requirement already satisfied: chardet<5,>=3.0.2 in /usr/local/lib/python3.8/dist-packages (from requests>=2.19.0->tensorflow-datasets>=2.1.0->tflite_model_maker) (4.0.0)\n",
            "Requirement already satisfied: idna<3,>=2.5 in /usr/local/lib/python3.8/dist-packages (from requests>=2.19.0->tensorflow-datasets>=2.1.0->tflite_model_maker) (2.10)\n",
            "Requirement already satisfied: threadpoolctl>=2.0.0 in /usr/local/lib/python3.8/dist-packages (from scikit-learn!=0.19.0,>=0.14.0->librosa==0.8.1->tflite_model_maker) (3.1.0)\n",
            "Requirement already satisfied: CFFI>=1.0 in /usr/local/lib/python3.8/dist-packages (from sounddevice>=0.4.4->tflite-support>=0.4.2->tflite_model_maker) (1.15.1)\n",
            "Requirement already satisfied: markdown>=2.6.8 in /usr/local/lib/python3.8/dist-packages (from tensorboard<2.9,>=2.8->tensorflow>=2.6.0->tflite_model_maker) (3.4.1)\n",
            "Requirement already satisfied: tensorboard-data-server<0.7.0,>=0.6.0 in /usr/local/lib/python3.8/dist-packages (from tensorboard<2.9,>=2.8->tensorflow>=2.6.0->tflite_model_maker) (0.6.1)\n",
            "Requirement already satisfied: werkzeug>=0.11.15 in /usr/local/lib/python3.8/dist-packages (from tensorboard<2.9,>=2.8->tensorflow>=2.6.0->tflite_model_maker) (1.0.1)\n",
            "Requirement already satisfied: tensorboard-plugin-wit>=1.6.0 in /usr/local/lib/python3.8/dist-packages (from tensorboard<2.9,>=2.8->tensorflow>=2.6.0->tflite_model_maker) (1.8.1)\n",
            "Requirement already satisfied: google-auth-oauthlib<0.5,>=0.4.1 in /usr/local/lib/python3.8/dist-packages (from tensorboard<2.9,>=2.8->tensorflow>=2.6.0->tflite_model_maker) (0.4.6)\n",
            "Requirement already satisfied: zipp in /usr/local/lib/python3.8/dist-packages (from etils[epath]->tensorflow-datasets>=2.1.0->tflite_model_maker) (3.11.0)\n",
            "Requirement already satisfied: googleapis-common-protos<2,>=1.52.0 in /usr/local/lib/python3.8/dist-packages (from tensorflow-metadata->tensorflow-datasets>=2.1.0->tflite_model_maker) (1.57.0)\n",
            "Requirement already satisfied: pycparser in /usr/local/lib/python3.8/dist-packages (from CFFI>=1.0->sounddevice>=0.4.4->tflite-support>=0.4.2->tflite_model_maker) (2.21)\n",
            "Requirement already satisfied: grpcio-status<2.0dev,>=1.33.2 in /usr/local/lib/python3.8/dist-packages (from google-api-core!=2.0.*,!=2.1.*,!=2.2.*,!=2.3.0,<3.0.0dev,>=1.31.5->google-api-python-client>=1.6.7->tf-models-official==2.3.0->tflite_model_maker) (1.48.2)\n",
            "Requirement already satisfied: rsa<5,>=3.1.4 in /usr/local/lib/python3.8/dist-packages (from google-auth<3.0.0dev,>=1.19.0->google-api-python-client>=1.6.7->tf-models-official==2.3.0->tflite_model_maker) (4.9)\n",
            "Requirement already satisfied: pyasn1-modules>=0.2.1 in /usr/local/lib/python3.8/dist-packages (from google-auth<3.0.0dev,>=1.19.0->google-api-python-client>=1.6.7->tf-models-official==2.3.0->tflite_model_maker) (0.2.8)\n",
            "Requirement already satisfied: cachetools<6.0,>=2.0.0 in /usr/local/lib/python3.8/dist-packages (from google-auth<3.0.0dev,>=1.19.0->google-api-python-client>=1.6.7->tf-models-official==2.3.0->tflite_model_maker) (5.2.0)\n",
            "Requirement already satisfied: requests-oauthlib>=0.7.0 in /usr/local/lib/python3.8/dist-packages (from google-auth-oauthlib<0.5,>=0.4.1->tensorboard<2.9,>=2.8->tensorflow>=2.6.0->tflite_model_maker) (1.3.1)\n",
            "Requirement already satisfied: google-crc32c<2.0dev,>=1.0 in /usr/local/lib/python3.8/dist-packages (from google-resumable-media<3.0dev,>=0.6.0->google-cloud-bigquery>=0.31.0->tf-models-official==2.3.0->tflite_model_maker) (1.5.0)\n",
            "Requirement already satisfied: importlib-metadata>=4.4 in /usr/local/lib/python3.8/dist-packages (from markdown>=2.6.8->tensorboard<2.9,>=2.8->tensorflow>=2.6.0->tflite_model_maker) (5.2.0)\n",
            "Requirement already satisfied: text-unidecode>=1.3 in /usr/local/lib/python3.8/dist-packages (from python-slugify->kaggle>=1.3.9->tf-models-official==2.3.0->tflite_model_maker) (1.3)\n",
            "Requirement already satisfied: pyasn1<0.5.0,>=0.4.6 in /usr/local/lib/python3.8/dist-packages (from pyasn1-modules>=0.2.1->google-auth<3.0.0dev,>=1.19.0->google-api-python-client>=1.6.7->tf-models-official==2.3.0->tflite_model_maker) (0.4.8)\n",
            "Requirement already satisfied: oauthlib>=3.0.0 in /usr/local/lib/python3.8/dist-packages (from requests-oauthlib>=0.7.0->google-auth-oauthlib<0.5,>=0.4.1->tensorboard<2.9,>=2.8->tensorflow>=2.6.0->tflite_model_maker) (3.2.2)\n"
          ]
        }
      ]
    },
    {
      "cell_type": "code",
      "execution_count": 4,
      "metadata": {
        "colab": {
          "base_uri": "https://localhost:8080/"
        },
        "id": "7lplsx0jbm7x",
        "outputId": "dc392653-526b-424d-d642-55c8f0642a04"
      },
      "outputs": [
        {
          "output_type": "stream",
          "name": "stderr",
          "text": [
            "/usr/local/lib/python3.8/dist-packages/tensorflow_addons/utils/ensure_tf_install.py:53: UserWarning: Tensorflow Addons supports using Python ops for all Tensorflow versions above or equal to 2.9.0 and strictly below 2.12.0 (nightly versions are not supported). \n",
            " The versions of TensorFlow you are currently using is 2.8.4 and is not supported. \n",
            "Some things might work, some things might not.\n",
            "If you were to encounter a bug, do not file an issue.\n",
            "If you want to make sure you're using a tested and supported configuration, either change the TensorFlow version or the TensorFlow Addons's version. \n",
            "You can find the compatibility matrix in TensorFlow Addon's readme:\n",
            "https://github.com/tensorflow/addons\n",
            "  warnings.warn(\n"
          ]
        }
      ],
      "source": [
        "import numpy as np\n",
        "import os\n",
        "\n",
        "from tflite_model_maker.config import QuantizationConfig\n",
        "from tflite_model_maker.config import ExportFormat\n",
        "from tflite_model_maker import model_spec\n",
        "from tflite_model_maker import object_detector\n",
        "\n",
        "import tensorflow as tf"
      ]
    },
    {
      "cell_type": "code",
      "source": [
        "# Choose an object detection model archiecture\n",
        "spec = model_spec.get('efficientdet_lite0')"
      ],
      "metadata": {
        "id": "-jW8BCZedzMI"
      },
      "execution_count": 5,
      "outputs": []
    },
    {
      "cell_type": "code",
      "source": [
        "!wget https://transfer.sh/pSAxRb/cards_dataset.zip"
      ],
      "metadata": {
        "colab": {
          "base_uri": "https://localhost:8080/"
        },
        "id": "ABpaDrdHeaOw",
        "outputId": "70b385e3-1663-4354-b9e5-a6ae46bb044e"
      },
      "execution_count": 25,
      "outputs": [
        {
          "output_type": "stream",
          "name": "stdout",
          "text": [
            "--2023-01-03 21:33:38--  https://transfer.sh/pSAxRb/cards_dataset.zip\n",
            "Resolving transfer.sh (transfer.sh)... 144.76.136.153, 2a01:4f8:200:1097::2\n",
            "Connecting to transfer.sh (transfer.sh)|144.76.136.153|:443... connected.\n",
            "HTTP request sent, awaiting response... 200 OK\n",
            "Length: 4988283 (4.8M) [application/zip]\n",
            "Saving to: ‘cards_dataset.zip’\n",
            "\n",
            "cards_dataset.zip   100%[===================>]   4.76M  5.70MB/s    in 0.8s    \n",
            "\n",
            "2023-01-03 21:33:40 (5.70 MB/s) - ‘cards_dataset.zip’ saved [4988283/4988283]\n",
            "\n"
          ]
        }
      ]
    },
    {
      "cell_type": "code",
      "source": [
        "!unzip /content/cards_dataset.zip"
      ],
      "metadata": {
        "id": "qrY8l8Yee4yv"
      },
      "execution_count": null,
      "outputs": []
    },
    {
      "cell_type": "code",
      "source": [
        "import os\n",
        "cwd = os.getcwd()"
      ],
      "metadata": {
        "id": "1Bg9xFv9kHrt"
      },
      "execution_count": 27,
      "outputs": []
    },
    {
      "cell_type": "code",
      "source": [
        "# Load the dataset\n",
        "CLASSES = ['card']\n",
        "TRAIN_DATASET_PATH = f'{cwd}/cards_dataset/train'\n",
        "VALID_DATASET_PATH = f'{cwd}/cards_dataset/valid'\n",
        "TEST_DATASET_PATH = f'{cwd}/cards_dataset/test'\n",
        "\n",
        "train_data = object_detector.DataLoader.from_pascal_voc(\n",
        "    TRAIN_DATASET_PATH,\n",
        "    TRAIN_DATASET_PATH,\n",
        "    CLASSES\n",
        ")\n",
        "\n",
        "val_data = object_detector.DataLoader.from_pascal_voc(\n",
        "    VALID_DATASET_PATH,\n",
        "    VALID_DATASET_PATH,\n",
        "    CLASSES\n",
        ")\n",
        "\n",
        "test_data = object_detector.DataLoader.from_pascal_voc(\n",
        "    TEST_DATASET_PATH,\n",
        "    TEST_DATASET_PATH,\n",
        "    CLASSES\n",
        ")\n"
      ],
      "metadata": {
        "id": "F3g04ZiLe-M6"
      },
      "execution_count": 28,
      "outputs": []
    },
    {
      "cell_type": "code",
      "source": [
        "# Train the TensorFlow model with the training data\n",
        "model = object_detector.create(train_data, model_spec=spec, batch_size=8, train_whole_model=True, validation_data=val_data)"
      ],
      "metadata": {
        "colab": {
          "base_uri": "https://localhost:8080/"
        },
        "id": "aTdyLejRfwEU",
        "outputId": "b0f5f2d7-9b31-4fa0-ec73-382d38e99355"
      },
      "execution_count": 29,
      "outputs": [
        {
          "output_type": "stream",
          "name": "stdout",
          "text": [
            "Epoch 1/50\n",
            " 6/16 [==========>...................] - ETA: 2s - det_loss: 1.7964 - cls_loss: 1.1446 - box_loss: 0.0130 - reg_l2_loss: 0.0630 - loss: 1.8594 - learning_rate: 0.0083 - gradient_norm: 1.2540"
          ]
        },
        {
          "output_type": "stream",
          "name": "stderr",
          "text": [
            "WARNING:tensorflow:Callback method `on_train_batch_end` is slow compared to the batch time (batch time: 0.2074s vs `on_train_batch_end` time: 0.2153s). Check your callbacks.\n"
          ]
        },
        {
          "output_type": "stream",
          "name": "stdout",
          "text": [
            "16/16 [==============================] - 48s 502ms/step - det_loss: 1.7239 - cls_loss: 1.1122 - box_loss: 0.0122 - reg_l2_loss: 0.0630 - loss: 1.7869 - learning_rate: 0.0090 - gradient_norm: 1.2756 - val_det_loss: 1.5444 - val_cls_loss: 1.0112 - val_box_loss: 0.0107 - val_reg_l2_loss: 0.0630 - val_loss: 1.6074\n",
            "Epoch 2/50\n",
            "16/16 [==============================] - 6s 373ms/step - det_loss: 1.3429 - cls_loss: 0.8578 - box_loss: 0.0097 - reg_l2_loss: 0.0630 - loss: 1.4059 - learning_rate: 0.0100 - gradient_norm: 2.2265 - val_det_loss: 1.8972 - val_cls_loss: 1.4813 - val_box_loss: 0.0083 - val_reg_l2_loss: 0.0630 - val_loss: 1.9602\n",
            "Epoch 3/50\n",
            "16/16 [==============================] - 5s 327ms/step - det_loss: 0.8972 - cls_loss: 0.5047 - box_loss: 0.0079 - reg_l2_loss: 0.0630 - loss: 0.9603 - learning_rate: 0.0099 - gradient_norm: 2.2563 - val_det_loss: 0.9011 - val_cls_loss: 0.5726 - val_box_loss: 0.0066 - val_reg_l2_loss: 0.0630 - val_loss: 0.9641\n",
            "Epoch 4/50\n",
            "16/16 [==============================] - 5s 340ms/step - det_loss: 0.6619 - cls_loss: 0.3505 - box_loss: 0.0062 - reg_l2_loss: 0.0630 - loss: 0.7249 - learning_rate: 0.0099 - gradient_norm: 1.7131 - val_det_loss: 0.6639 - val_cls_loss: 0.3772 - val_box_loss: 0.0057 - val_reg_l2_loss: 0.0631 - val_loss: 0.7270\n",
            "Epoch 5/50\n",
            "16/16 [==============================] - 13s 874ms/step - det_loss: 0.5323 - cls_loss: 0.2815 - box_loss: 0.0050 - reg_l2_loss: 0.0631 - loss: 0.5953 - learning_rate: 0.0098 - gradient_norm: 1.3953 - val_det_loss: 0.6277 - val_cls_loss: 0.3514 - val_box_loss: 0.0055 - val_reg_l2_loss: 0.0631 - val_loss: 0.6907\n",
            "Epoch 6/50\n",
            "16/16 [==============================] - 6s 345ms/step - det_loss: 0.4956 - cls_loss: 0.2681 - box_loss: 0.0045 - reg_l2_loss: 0.0631 - loss: 0.5587 - learning_rate: 0.0097 - gradient_norm: 1.5975 - val_det_loss: 0.4898 - val_cls_loss: 0.2805 - val_box_loss: 0.0042 - val_reg_l2_loss: 0.0631 - val_loss: 0.5528\n",
            "Epoch 7/50\n",
            "16/16 [==============================] - 5s 341ms/step - det_loss: 0.4001 - cls_loss: 0.2225 - box_loss: 0.0036 - reg_l2_loss: 0.0631 - loss: 0.4632 - learning_rate: 0.0096 - gradient_norm: 1.6059 - val_det_loss: 0.4302 - val_cls_loss: 0.2422 - val_box_loss: 0.0038 - val_reg_l2_loss: 0.0631 - val_loss: 0.4933\n",
            "Epoch 8/50\n",
            "16/16 [==============================] - 5s 343ms/step - det_loss: 0.3996 - cls_loss: 0.2175 - box_loss: 0.0036 - reg_l2_loss: 0.0631 - loss: 0.4627 - learning_rate: 0.0094 - gradient_norm: 1.4332 - val_det_loss: 0.4958 - val_cls_loss: 0.2352 - val_box_loss: 0.0052 - val_reg_l2_loss: 0.0631 - val_loss: 0.5589\n",
            "Epoch 9/50\n",
            "16/16 [==============================] - 5s 335ms/step - det_loss: 0.3464 - cls_loss: 0.1997 - box_loss: 0.0029 - reg_l2_loss: 0.0631 - loss: 0.4095 - learning_rate: 0.0093 - gradient_norm: 1.6591 - val_det_loss: 0.3991 - val_cls_loss: 0.2115 - val_box_loss: 0.0038 - val_reg_l2_loss: 0.0631 - val_loss: 0.4622\n",
            "Epoch 10/50\n",
            "16/16 [==============================] - 7s 463ms/step - det_loss: 0.3407 - cls_loss: 0.1969 - box_loss: 0.0029 - reg_l2_loss: 0.0631 - loss: 0.4038 - learning_rate: 0.0091 - gradient_norm: 1.4770 - val_det_loss: 0.3665 - val_cls_loss: 0.2063 - val_box_loss: 0.0032 - val_reg_l2_loss: 0.0631 - val_loss: 0.4296\n",
            "Epoch 11/50\n",
            "16/16 [==============================] - 5s 344ms/step - det_loss: 0.3191 - cls_loss: 0.1842 - box_loss: 0.0027 - reg_l2_loss: 0.0631 - loss: 0.3822 - learning_rate: 0.0089 - gradient_norm: 1.6294 - val_det_loss: 0.3391 - val_cls_loss: 0.1995 - val_box_loss: 0.0028 - val_reg_l2_loss: 0.0631 - val_loss: 0.4022\n",
            "Epoch 12/50\n",
            "16/16 [==============================] - 7s 474ms/step - det_loss: 0.2936 - cls_loss: 0.1750 - box_loss: 0.0024 - reg_l2_loss: 0.0631 - loss: 0.3567 - learning_rate: 0.0087 - gradient_norm: 1.5373 - val_det_loss: 0.3014 - val_cls_loss: 0.1818 - val_box_loss: 0.0024 - val_reg_l2_loss: 0.0631 - val_loss: 0.3645\n",
            "Epoch 13/50\n",
            "16/16 [==============================] - 6s 358ms/step - det_loss: 0.2811 - cls_loss: 0.1712 - box_loss: 0.0022 - reg_l2_loss: 0.0631 - loss: 0.3442 - learning_rate: 0.0085 - gradient_norm: 1.3785 - val_det_loss: 0.2878 - val_cls_loss: 0.1846 - val_box_loss: 0.0021 - val_reg_l2_loss: 0.0631 - val_loss: 0.3509\n",
            "Epoch 14/50\n",
            "16/16 [==============================] - 6s 383ms/step - det_loss: 0.2703 - cls_loss: 0.1653 - box_loss: 0.0021 - reg_l2_loss: 0.0631 - loss: 0.3334 - learning_rate: 0.0082 - gradient_norm: 1.3408 - val_det_loss: 0.2813 - val_cls_loss: 0.1931 - val_box_loss: 0.0018 - val_reg_l2_loss: 0.0631 - val_loss: 0.3444\n",
            "Epoch 15/50\n",
            "16/16 [==============================] - 7s 425ms/step - det_loss: 0.2617 - cls_loss: 0.1618 - box_loss: 0.0020 - reg_l2_loss: 0.0631 - loss: 0.3248 - learning_rate: 0.0080 - gradient_norm: 1.3804 - val_det_loss: 0.2644 - val_cls_loss: 0.1798 - val_box_loss: 0.0017 - val_reg_l2_loss: 0.0631 - val_loss: 0.3275\n",
            "Epoch 16/50\n",
            "16/16 [==============================] - 5s 344ms/step - det_loss: 0.2505 - cls_loss: 0.1549 - box_loss: 0.0019 - reg_l2_loss: 0.0631 - loss: 0.3136 - learning_rate: 0.0077 - gradient_norm: 1.3977 - val_det_loss: 0.2693 - val_cls_loss: 0.1793 - val_box_loss: 0.0018 - val_reg_l2_loss: 0.0631 - val_loss: 0.3324\n",
            "Epoch 17/50\n",
            "16/16 [==============================] - 6s 348ms/step - det_loss: 0.2482 - cls_loss: 0.1522 - box_loss: 0.0019 - reg_l2_loss: 0.0631 - loss: 0.3113 - learning_rate: 0.0075 - gradient_norm: 1.3907 - val_det_loss: 0.3053 - val_cls_loss: 0.1887 - val_box_loss: 0.0023 - val_reg_l2_loss: 0.0631 - val_loss: 0.3684\n",
            "Epoch 18/50\n",
            "16/16 [==============================] - 7s 444ms/step - det_loss: 0.2299 - cls_loss: 0.1449 - box_loss: 0.0017 - reg_l2_loss: 0.0631 - loss: 0.2930 - learning_rate: 0.0072 - gradient_norm: 1.3719 - val_det_loss: 0.2729 - val_cls_loss: 0.1653 - val_box_loss: 0.0022 - val_reg_l2_loss: 0.0631 - val_loss: 0.3360\n",
            "Epoch 19/50\n",
            "16/16 [==============================] - 6s 409ms/step - det_loss: 0.2339 - cls_loss: 0.1505 - box_loss: 0.0017 - reg_l2_loss: 0.0631 - loss: 0.2970 - learning_rate: 0.0069 - gradient_norm: 1.4048 - val_det_loss: 0.2449 - val_cls_loss: 0.1809 - val_box_loss: 0.0013 - val_reg_l2_loss: 0.0631 - val_loss: 0.3080\n",
            "Epoch 20/50\n",
            "16/16 [==============================] - 7s 422ms/step - det_loss: 0.2293 - cls_loss: 0.1454 - box_loss: 0.0017 - reg_l2_loss: 0.0631 - loss: 0.2924 - learning_rate: 0.0066 - gradient_norm: 1.4862 - val_det_loss: 0.2511 - val_cls_loss: 0.1730 - val_box_loss: 0.0016 - val_reg_l2_loss: 0.0631 - val_loss: 0.3142\n",
            "Epoch 21/50\n",
            "16/16 [==============================] - 6s 349ms/step - det_loss: 0.2022 - cls_loss: 0.1311 - box_loss: 0.0014 - reg_l2_loss: 0.0631 - loss: 0.2653 - learning_rate: 0.0063 - gradient_norm: 1.2293 - val_det_loss: 0.2381 - val_cls_loss: 0.1709 - val_box_loss: 0.0013 - val_reg_l2_loss: 0.0631 - val_loss: 0.3012\n",
            "Epoch 22/50\n",
            "16/16 [==============================] - 5s 347ms/step - det_loss: 0.2177 - cls_loss: 0.1404 - box_loss: 0.0015 - reg_l2_loss: 0.0631 - loss: 0.2808 - learning_rate: 0.0060 - gradient_norm: 1.4046 - val_det_loss: 0.2412 - val_cls_loss: 0.1698 - val_box_loss: 0.0014 - val_reg_l2_loss: 0.0631 - val_loss: 0.3043\n",
            "Epoch 23/50\n",
            "16/16 [==============================] - 6s 386ms/step - det_loss: 0.2136 - cls_loss: 0.1358 - box_loss: 0.0016 - reg_l2_loss: 0.0631 - loss: 0.2767 - learning_rate: 0.0056 - gradient_norm: 1.4915 - val_det_loss: 0.2366 - val_cls_loss: 0.1713 - val_box_loss: 0.0013 - val_reg_l2_loss: 0.0631 - val_loss: 0.2997\n",
            "Epoch 24/50\n",
            "16/16 [==============================] - 6s 350ms/step - det_loss: 0.2105 - cls_loss: 0.1339 - box_loss: 0.0015 - reg_l2_loss: 0.0631 - loss: 0.2736 - learning_rate: 0.0053 - gradient_norm: 1.3806 - val_det_loss: 0.2374 - val_cls_loss: 0.1696 - val_box_loss: 0.0014 - val_reg_l2_loss: 0.0631 - val_loss: 0.3005\n",
            "Epoch 25/50\n",
            "16/16 [==============================] - 7s 423ms/step - det_loss: 0.2143 - cls_loss: 0.1400 - box_loss: 0.0015 - reg_l2_loss: 0.0631 - loss: 0.2774 - learning_rate: 0.0050 - gradient_norm: 1.4930 - val_det_loss: 0.2277 - val_cls_loss: 0.1694 - val_box_loss: 0.0012 - val_reg_l2_loss: 0.0631 - val_loss: 0.2908\n",
            "Epoch 26/50\n",
            "16/16 [==============================] - 5s 348ms/step - det_loss: 0.1924 - cls_loss: 0.1263 - box_loss: 0.0013 - reg_l2_loss: 0.0631 - loss: 0.2555 - learning_rate: 0.0047 - gradient_norm: 1.2521 - val_det_loss: 0.2222 - val_cls_loss: 0.1682 - val_box_loss: 0.0011 - val_reg_l2_loss: 0.0631 - val_loss: 0.2853\n",
            "Epoch 27/50\n",
            "16/16 [==============================] - 6s 390ms/step - det_loss: 0.2211 - cls_loss: 0.1410 - box_loss: 0.0016 - reg_l2_loss: 0.0631 - loss: 0.2842 - learning_rate: 0.0044 - gradient_norm: 1.4883 - val_det_loss: 0.2275 - val_cls_loss: 0.1746 - val_box_loss: 0.0011 - val_reg_l2_loss: 0.0631 - val_loss: 0.2906\n",
            "Epoch 28/50\n",
            "16/16 [==============================] - 5s 347ms/step - det_loss: 0.1955 - cls_loss: 0.1257 - box_loss: 0.0014 - reg_l2_loss: 0.0631 - loss: 0.2586 - learning_rate: 0.0040 - gradient_norm: 1.2815 - val_det_loss: 0.2371 - val_cls_loss: 0.1796 - val_box_loss: 0.0012 - val_reg_l2_loss: 0.0631 - val_loss: 0.3002\n",
            "Epoch 29/50\n",
            "16/16 [==============================] - 8s 491ms/step - det_loss: 0.1934 - cls_loss: 0.1268 - box_loss: 0.0013 - reg_l2_loss: 0.0631 - loss: 0.2565 - learning_rate: 0.0037 - gradient_norm: 1.2767 - val_det_loss: 0.2243 - val_cls_loss: 0.1683 - val_box_loss: 0.0011 - val_reg_l2_loss: 0.0631 - val_loss: 0.2874\n",
            "Epoch 30/50\n",
            "16/16 [==============================] - 7s 439ms/step - det_loss: 0.2011 - cls_loss: 0.1297 - box_loss: 0.0014 - reg_l2_loss: 0.0631 - loss: 0.2642 - learning_rate: 0.0034 - gradient_norm: 1.2905 - val_det_loss: 0.2432 - val_cls_loss: 0.1785 - val_box_loss: 0.0013 - val_reg_l2_loss: 0.0631 - val_loss: 0.3063\n",
            "Epoch 31/50\n",
            "16/16 [==============================] - 6s 354ms/step - det_loss: 0.1869 - cls_loss: 0.1239 - box_loss: 0.0013 - reg_l2_loss: 0.0631 - loss: 0.2500 - learning_rate: 0.0031 - gradient_norm: 1.3266 - val_det_loss: 0.2470 - val_cls_loss: 0.1749 - val_box_loss: 0.0014 - val_reg_l2_loss: 0.0631 - val_loss: 0.3101\n",
            "Epoch 32/50\n",
            "16/16 [==============================] - 6s 384ms/step - det_loss: 0.2013 - cls_loss: 0.1304 - box_loss: 0.0014 - reg_l2_loss: 0.0631 - loss: 0.2644 - learning_rate: 0.0028 - gradient_norm: 1.4277 - val_det_loss: 0.2406 - val_cls_loss: 0.1759 - val_box_loss: 0.0013 - val_reg_l2_loss: 0.0631 - val_loss: 0.3036\n",
            "Epoch 33/50\n",
            "16/16 [==============================] - 6s 352ms/step - det_loss: 0.1959 - cls_loss: 0.1292 - box_loss: 0.0013 - reg_l2_loss: 0.0631 - loss: 0.2590 - learning_rate: 0.0025 - gradient_norm: 1.5118 - val_det_loss: 0.2435 - val_cls_loss: 0.1790 - val_box_loss: 0.0013 - val_reg_l2_loss: 0.0631 - val_loss: 0.3066\n",
            "Epoch 34/50\n",
            "16/16 [==============================] - 6s 351ms/step - det_loss: 0.1799 - cls_loss: 0.1196 - box_loss: 0.0012 - reg_l2_loss: 0.0631 - loss: 0.2430 - learning_rate: 0.0023 - gradient_norm: 1.3958 - val_det_loss: 0.2250 - val_cls_loss: 0.1699 - val_box_loss: 0.0011 - val_reg_l2_loss: 0.0631 - val_loss: 0.2881\n",
            "Epoch 35/50\n",
            "16/16 [==============================] - 8s 496ms/step - det_loss: 0.1860 - cls_loss: 0.1222 - box_loss: 0.0013 - reg_l2_loss: 0.0631 - loss: 0.2491 - learning_rate: 0.0020 - gradient_norm: 1.3595 - val_det_loss: 0.2271 - val_cls_loss: 0.1668 - val_box_loss: 0.0012 - val_reg_l2_loss: 0.0631 - val_loss: 0.2902\n",
            "Epoch 36/50\n",
            "16/16 [==============================] - 7s 437ms/step - det_loss: 0.1899 - cls_loss: 0.1253 - box_loss: 0.0013 - reg_l2_loss: 0.0631 - loss: 0.2530 - learning_rate: 0.0018 - gradient_norm: 1.3262 - val_det_loss: 0.2287 - val_cls_loss: 0.1696 - val_box_loss: 0.0012 - val_reg_l2_loss: 0.0631 - val_loss: 0.2918\n",
            "Epoch 37/50\n",
            "16/16 [==============================] - 5s 342ms/step - det_loss: 0.1796 - cls_loss: 0.1197 - box_loss: 0.0012 - reg_l2_loss: 0.0631 - loss: 0.2427 - learning_rate: 0.0015 - gradient_norm: 1.3774 - val_det_loss: 0.2295 - val_cls_loss: 0.1723 - val_box_loss: 0.0011 - val_reg_l2_loss: 0.0631 - val_loss: 0.2925\n",
            "Epoch 38/50\n",
            "16/16 [==============================] - 6s 352ms/step - det_loss: 0.1825 - cls_loss: 0.1209 - box_loss: 0.0012 - reg_l2_loss: 0.0631 - loss: 0.2455 - learning_rate: 0.0013 - gradient_norm: 1.2013 - val_det_loss: 0.2400 - val_cls_loss: 0.1758 - val_box_loss: 0.0013 - val_reg_l2_loss: 0.0631 - val_loss: 0.3031\n",
            "Epoch 39/50\n",
            "16/16 [==============================] - 5s 345ms/step - det_loss: 0.1987 - cls_loss: 0.1296 - box_loss: 0.0014 - reg_l2_loss: 0.0631 - loss: 0.2618 - learning_rate: 0.0011 - gradient_norm: 1.4770 - val_det_loss: 0.2308 - val_cls_loss: 0.1738 - val_box_loss: 0.0011 - val_reg_l2_loss: 0.0631 - val_loss: 0.2939\n",
            "Epoch 40/50\n",
            "16/16 [==============================] - 7s 458ms/step - det_loss: 0.1865 - cls_loss: 0.1244 - box_loss: 0.0012 - reg_l2_loss: 0.0631 - loss: 0.2496 - learning_rate: 9.0057e-04 - gradient_norm: 1.2046 - val_det_loss: 0.2349 - val_cls_loss: 0.1717 - val_box_loss: 0.0013 - val_reg_l2_loss: 0.0631 - val_loss: 0.2980\n",
            "Epoch 41/50\n",
            "16/16 [==============================] - 5s 340ms/step - det_loss: 0.1920 - cls_loss: 0.1256 - box_loss: 0.0013 - reg_l2_loss: 0.0631 - loss: 0.2551 - learning_rate: 7.2569e-04 - gradient_norm: 1.3431 - val_det_loss: 0.2269 - val_cls_loss: 0.1714 - val_box_loss: 0.0011 - val_reg_l2_loss: 0.0631 - val_loss: 0.2900\n",
            "Epoch 42/50\n",
            "16/16 [==============================] - 6s 374ms/step - det_loss: 0.1841 - cls_loss: 0.1222 - box_loss: 0.0012 - reg_l2_loss: 0.0631 - loss: 0.2472 - learning_rate: 5.6837e-04 - gradient_norm: 1.2411 - val_det_loss: 0.2286 - val_cls_loss: 0.1709 - val_box_loss: 0.0012 - val_reg_l2_loss: 0.0631 - val_loss: 0.2917\n",
            "Epoch 43/50\n",
            "16/16 [==============================] - 7s 453ms/step - det_loss: 0.1768 - cls_loss: 0.1180 - box_loss: 0.0012 - reg_l2_loss: 0.0631 - loss: 0.2399 - learning_rate: 4.2926e-04 - gradient_norm: 1.2672 - val_det_loss: 0.2241 - val_cls_loss: 0.1703 - val_box_loss: 0.0011 - val_reg_l2_loss: 0.0631 - val_loss: 0.2872\n",
            "Epoch 44/50\n",
            "16/16 [==============================] - 6s 358ms/step - det_loss: 0.1919 - cls_loss: 0.1274 - box_loss: 0.0013 - reg_l2_loss: 0.0631 - loss: 0.2550 - learning_rate: 3.0894e-04 - gradient_norm: 1.2329 - val_det_loss: 0.2291 - val_cls_loss: 0.1727 - val_box_loss: 0.0011 - val_reg_l2_loss: 0.0631 - val_loss: 0.2922\n",
            "Epoch 45/50\n",
            "16/16 [==============================] - 7s 452ms/step - det_loss: 0.1790 - cls_loss: 0.1204 - box_loss: 0.0012 - reg_l2_loss: 0.0631 - loss: 0.2421 - learning_rate: 2.0789e-04 - gradient_norm: 1.2667 - val_det_loss: 0.2292 - val_cls_loss: 0.1717 - val_box_loss: 0.0012 - val_reg_l2_loss: 0.0631 - val_loss: 0.2923\n",
            "Epoch 46/50\n",
            "16/16 [==============================] - 5s 344ms/step - det_loss: 0.1747 - cls_loss: 0.1183 - box_loss: 0.0011 - reg_l2_loss: 0.0631 - loss: 0.2378 - learning_rate: 1.2653e-04 - gradient_norm: 1.2895 - val_det_loss: 0.2290 - val_cls_loss: 0.1714 - val_box_loss: 0.0012 - val_reg_l2_loss: 0.0631 - val_loss: 0.2921\n",
            "Epoch 47/50\n",
            "16/16 [==============================] - 6s 359ms/step - det_loss: 0.1844 - cls_loss: 0.1251 - box_loss: 0.0012 - reg_l2_loss: 0.0631 - loss: 0.2475 - learning_rate: 6.5195e-05 - gradient_norm: 1.3197 - val_det_loss: 0.2285 - val_cls_loss: 0.1711 - val_box_loss: 0.0011 - val_reg_l2_loss: 0.0631 - val_loss: 0.2916\n",
            "Epoch 48/50\n",
            "16/16 [==============================] - 5s 347ms/step - det_loss: 0.1749 - cls_loss: 0.1204 - box_loss: 0.0011 - reg_l2_loss: 0.0631 - loss: 0.2380 - learning_rate: 2.4141e-05 - gradient_norm: 1.1626 - val_det_loss: 0.2298 - val_cls_loss: 0.1717 - val_box_loss: 0.0012 - val_reg_l2_loss: 0.0631 - val_loss: 0.2928\n",
            "Epoch 49/50\n",
            "16/16 [==============================] - 6s 388ms/step - det_loss: 0.1718 - cls_loss: 0.1131 - box_loss: 0.0012 - reg_l2_loss: 0.0631 - loss: 0.2349 - learning_rate: 3.5342e-06 - gradient_norm: 1.1319 - val_det_loss: 0.2302 - val_cls_loss: 0.1721 - val_box_loss: 0.0012 - val_reg_l2_loss: 0.0631 - val_loss: 0.2933\n",
            "Epoch 50/50\n",
            "16/16 [==============================] - 7s 423ms/step - det_loss: 0.1702 - cls_loss: 0.1134 - box_loss: 0.0011 - reg_l2_loss: 0.0631 - loss: 0.2332 - learning_rate: 3.4587e-06 - gradient_norm: 1.1620 - val_det_loss: 0.2299 - val_cls_loss: 0.1719 - val_box_loss: 0.0012 - val_reg_l2_loss: 0.0631 - val_loss: 0.2930\n"
          ]
        }
      ]
    },
    {
      "cell_type": "code",
      "source": [
        "# Evaluate the model with the test data\n",
        "model.evaluate(test_data)"
      ],
      "metadata": {
        "colab": {
          "base_uri": "https://localhost:8080/"
        },
        "id": "BWAsMNTrgQxz",
        "outputId": "3d4f0773-89be-46d0-b92c-68bfb64c75d2"
      },
      "execution_count": 30,
      "outputs": [
        {
          "output_type": "stream",
          "name": "stdout",
          "text": [
            "\r1/1 [==============================] - 4s 4s/step\n",
            "\n"
          ]
        },
        {
          "output_type": "execute_result",
          "data": {
            "text/plain": [
              "{'AP': 0.8202348,\n",
              " 'AP50': 1.0,\n",
              " 'AP75': 1.0,\n",
              " 'APs': -1.0,\n",
              " 'APm': -1.0,\n",
              " 'APl': 0.8203406,\n",
              " 'ARmax1': 0.33846155,\n",
              " 'ARmax10': 0.84615386,\n",
              " 'ARmax100': 0.84615386,\n",
              " 'ARs': -1.0,\n",
              " 'ARm': -1.0,\n",
              " 'ARl': 0.84615386,\n",
              " 'AP_/card': 0.8202348}"
            ]
          },
          "metadata": {},
          "execution_count": 30
        }
      ]
    },
    {
      "cell_type": "code",
      "source": [
        "# Export as a TensorFlow Lite model\n",
        "model.export(export_dir='.')"
      ],
      "metadata": {
        "colab": {
          "base_uri": "https://localhost:8080/"
        },
        "id": "mzzkcDQFgrA7",
        "outputId": "fe7f1ae3-0894-4213-afce-5671ca020545"
      },
      "execution_count": 32,
      "outputs": [
        {
          "output_type": "stream",
          "name": "stderr",
          "text": [
            "WARNING:tensorflow:Skipping full serialization of Keras layer <tensorflow_examples.lite.model_maker.core.task.model_spec.object_detector_spec.ExportModel object at 0x7fecb4902af0>, because it is not built.\n",
            "WARNING:absl:Found untraced functions such as restored_function_body, restored_function_body, restored_function_body, restored_function_body, restored_function_body while saving (showing 5 of 608). These functions will not be directly callable after loading.\n"
          ]
        }
      ]
    },
    {
      "cell_type": "code",
      "source": [
        "model.summary()"
      ],
      "metadata": {
        "colab": {
          "base_uri": "https://localhost:8080/"
        },
        "id": "GKiiY33yhQOj",
        "outputId": "6ba94f07-f12a-4a57-ee8a-4d3353f3bcb5"
      },
      "execution_count": 35,
      "outputs": [
        {
          "output_type": "stream",
          "name": "stdout",
          "text": [
            "Model: \"\"\n",
            "_________________________________________________________________\n",
            " Layer (type)                Output Shape              Param #   \n",
            "=================================================================\n",
            " keras_layer (KerasLayer)    multiple                  3234464   \n",
            "                                                                 \n",
            " class_net/class-predict (Se  multiple                 1746      \n",
            " parableConv2D)                                                  \n",
            "                                                                 \n",
            " box_net/box-predict (Separa  multiple                 2916      \n",
            " bleConv2D)                                                      \n",
            "                                                                 \n",
            "=================================================================\n",
            "Total params: 3,239,126\n",
            "Trainable params: 3,191,990\n",
            "Non-trainable params: 47,136\n",
            "_________________________________________________________________\n"
          ]
        }
      ]
    },
    {
      "cell_type": "code",
      "source": [
        "!pwd"
      ],
      "metadata": {
        "colab": {
          "base_uri": "https://localhost:8080/"
        },
        "id": "97y-QqPPhTfK",
        "outputId": "8c58c5cf-f860-47e3-a45e-08234bc795cc"
      },
      "execution_count": 34,
      "outputs": [
        {
          "output_type": "stream",
          "name": "stdout",
          "text": [
            "/content\n"
          ]
        }
      ]
    },
    {
      "cell_type": "code",
      "source": [],
      "metadata": {
        "id": "RlKFrWSojSqb"
      },
      "execution_count": null,
      "outputs": []
    }
  ]
}